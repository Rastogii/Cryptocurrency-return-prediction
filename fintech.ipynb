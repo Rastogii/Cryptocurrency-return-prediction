{
 "cells": [
  {
   "cell_type": "code",
   "execution_count": 3,
   "id": "d6c98b34-f875-4286-8d38-37b95dfdcdae",
   "metadata": {
    "execution": {
     "iopub.execute_input": "2022-01-17T04:59:32.193719Z",
     "iopub.status.busy": "2022-01-17T04:59:32.193476Z",
     "iopub.status.idle": "2022-01-17T04:59:32.371971Z",
     "shell.execute_reply": "2022-01-17T04:59:32.371225Z",
     "shell.execute_reply.started": "2022-01-17T04:59:32.193691Z"
    },
    "tags": []
   },
   "outputs": [
    {
     "data": {
      "application/vnd.jupyter.widget-view+json": {
       "model_id": "39d63ea5af7343d4853886a2d9abdb4b",
       "version_major": 2,
       "version_minor": 0
      },
      "text/plain": [
       "VBox()"
      ]
     },
     "metadata": {},
     "output_type": "display_data"
    },
    {
     "data": {
      "application/vnd.jupyter.widget-view+json": {
       "model_id": "",
       "version_major": 2,
       "version_minor": 0
      },
      "text/plain": [
       "FloatProgress(value=0.0, bar_style='info', description='Progress:', layout=Layout(height='25px', width='50%'),…"
      ]
     },
     "metadata": {},
     "output_type": "display_data"
    }
   ],
   "source": [
    "from pyspark.sql import SparkSession\n",
    "spark = SparkSession.builder.appName('trairt').getOrCreate()"
   ]
  },
  {
   "cell_type": "code",
   "execution_count": 4,
   "id": "3a8f145d-232e-4619-b402-03350cfdebf3",
   "metadata": {
    "execution": {
     "iopub.execute_input": "2022-01-17T04:59:42.532801Z",
     "iopub.status.busy": "2022-01-17T04:59:42.532521Z",
     "iopub.status.idle": "2022-01-17T05:00:02.743022Z",
     "shell.execute_reply": "2022-01-17T05:00:02.741714Z",
     "shell.execute_reply.started": "2022-01-17T04:59:42.532761Z"
    },
    "tags": []
   },
   "outputs": [
    {
     "data": {
      "application/vnd.jupyter.widget-view+json": {
       "model_id": "d23839fea609412d98934011fa9883b0",
       "version_major": 2,
       "version_minor": 0
      },
      "text/plain": [
       "VBox()"
      ]
     },
     "metadata": {},
     "output_type": "display_data"
    },
    {
     "data": {
      "application/vnd.jupyter.widget-view+json": {
       "model_id": "",
       "version_major": 2,
       "version_minor": 0
      },
      "text/plain": [
       "FloatProgress(value=0.0, bar_style='info', description='Progress:', layout=Layout(height='25px', width='50%'),…"
      ]
     },
     "metadata": {},
     "output_type": "display_data"
    }
   ],
   "source": [
    "all_data = spark.read.csv('/train.csv', header=True, inferSchema=True)"
   ]
  },
  {
   "cell_type": "code",
   "execution_count": 5,
   "id": "106a1a94-dd9c-47c7-b046-4c4d43ec2cb3",
   "metadata": {
    "execution": {
     "iopub.execute_input": "2022-01-17T05:00:04.923578Z",
     "iopub.status.busy": "2022-01-17T05:00:04.923324Z",
     "iopub.status.idle": "2022-01-17T05:00:05.282573Z",
     "shell.execute_reply": "2022-01-17T05:00:05.281600Z",
     "shell.execute_reply.started": "2022-01-17T05:00:04.923548Z"
    },
    "tags": []
   },
   "outputs": [
    {
     "data": {
      "application/vnd.jupyter.widget-view+json": {
       "model_id": "31b3777c74a14987b993e7b55e9fdadc",
       "version_major": 2,
       "version_minor": 0
      },
      "text/plain": [
       "VBox()"
      ]
     },
     "metadata": {},
     "output_type": "display_data"
    },
    {
     "data": {
      "application/vnd.jupyter.widget-view+json": {
       "model_id": "",
       "version_major": 2,
       "version_minor": 0
      },
      "text/plain": [
       "FloatProgress(value=0.0, bar_style='info', description='Progress:', layout=Layout(height='25px', width='50%'),…"
      ]
     },
     "metadata": {},
     "output_type": "display_data"
    },
    {
     "name": "stdout",
     "output_type": "stream",
     "text": [
      "['timestamp', 'Asset_ID', 'Count', 'Open', 'High', 'Low', 'Close', 'Volume', 'VWAP', 'Target']"
     ]
    }
   ],
   "source": [
    "all_data.columns"
   ]
  },
  {
   "cell_type": "code",
   "execution_count": 6,
   "id": "8c1d21c1-dbf8-42b3-b59a-ca53c8fd6bf9",
   "metadata": {
    "execution": {
     "iopub.execute_input": "2022-01-17T05:00:07.476328Z",
     "iopub.status.busy": "2022-01-17T05:00:07.476069Z",
     "iopub.status.idle": "2022-01-17T05:00:07.905959Z",
     "shell.execute_reply": "2022-01-17T05:00:07.904961Z",
     "shell.execute_reply.started": "2022-01-17T05:00:07.476298Z"
    },
    "tags": []
   },
   "outputs": [
    {
     "data": {
      "application/vnd.jupyter.widget-view+json": {
       "model_id": "76021e80ada249b5a45a39205960e125",
       "version_major": 2,
       "version_minor": 0
      },
      "text/plain": [
       "VBox()"
      ]
     },
     "metadata": {},
     "output_type": "display_data"
    },
    {
     "data": {
      "application/vnd.jupyter.widget-view+json": {
       "model_id": "",
       "version_major": 2,
       "version_minor": 0
      },
      "text/plain": [
       "FloatProgress(value=0.0, bar_style='info', description='Progress:', layout=Layout(height='25px', width='50%'),…"
      ]
     },
     "metadata": {},
     "output_type": "display_data"
    },
    {
     "name": "stdout",
     "output_type": "stream",
     "text": [
      "[Row(timestamp=1514764860, Asset_ID=2, Count=40.0, Open=2376.58, High=2399.5, Low=2357.14, Close=2374.59, Volume=19.23300519, VWAP='2373.1163915061647', Target=-0.004218152387429286), Row(timestamp=1514764860, Asset_ID=0, Count=5.0, Open=8.53, High=8.53, Low=8.53, Close=8.53, Volume=78.38, VWAP='8.53', Target=-0.014398966468964769)]"
     ]
    }
   ],
   "source": [
    "all_data.head(2)"
   ]
  },
  {
   "cell_type": "code",
   "execution_count": 7,
   "id": "e4a9ea0e-bfef-417a-b564-d55aff5474c6",
   "metadata": {
    "execution": {
     "iopub.execute_input": "2022-01-17T05:00:13.493419Z",
     "iopub.status.busy": "2022-01-17T05:00:13.493161Z",
     "iopub.status.idle": "2022-01-17T05:00:25.291636Z",
     "shell.execute_reply": "2022-01-17T05:00:25.288297Z",
     "shell.execute_reply.started": "2022-01-17T05:00:13.493390Z"
    },
    "tags": []
   },
   "outputs": [
    {
     "data": {
      "application/vnd.jupyter.widget-view+json": {
       "model_id": "17f25e3bf6484765b9bde294b06007ea",
       "version_major": 2,
       "version_minor": 0
      },
      "text/plain": [
       "VBox()"
      ]
     },
     "metadata": {},
     "output_type": "display_data"
    },
    {
     "data": {
      "application/vnd.jupyter.widget-view+json": {
       "model_id": "",
       "version_major": 2,
       "version_minor": 0
      },
      "text/plain": [
       "FloatProgress(value=0.0, bar_style='info', description='Progress:', layout=Layout(height='25px', width='50%'),…"
      ]
     },
     "metadata": {},
     "output_type": "display_data"
    },
    {
     "name": "stdout",
     "output_type": "stream",
     "text": [
      "+-------+--------------------+-----------------+-----------------+--------------------+--------------------+------------------+------------------+-------------------+-------------------+--------------------+\n",
      "|summary|           timestamp|         Asset_ID|            Count|                Open|                High|               Low|             Close|             Volume|               VWAP|              Target|\n",
      "+-------+--------------------+-----------------+-----------------+--------------------+--------------------+------------------+------------------+-------------------+-------------------+--------------------+\n",
      "|  count|            24236806|         24236806|         24236806|            24236806|            24236806|          24236806|          24236806|           24236806|           24236797|            23486468|\n",
      "|   mean|1.5771204253124714E9| 6.29254353894651|286.4593481500822|   1432.640491617432|  1436.3503906875278|1429.5675986148337|1432.6399774617075|  286852.9856098686| 1432.6292640409958|7.121751598290232E-6|\n",
      "| stddev| 3.323350174209519E7|4.091860643777704|867.3981577153951|    6029.60501991662|    6039.48241878473|  6020.26068761917| 6029.610646722436| 2433934.6459222473|  6029.560021731337|0.005679041976905116|\n",
      "|    min|          1514764860|                0|              1.0|0.001170399999999...|0.001194999999999...|            2.0E-4|         0.0011714|        -0.36628118|-107.06524261169257| -0.5093509350935094|\n",
      "|    max|          1632182400|               13|         165016.0|   64805.94375000001|             64900.0|          64670.53|      64808.537275|7.597554031423857E8|                inf|  0.9641699005900803|\n",
      "+-------+--------------------+-----------------+-----------------+--------------------+--------------------+------------------+------------------+-------------------+-------------------+--------------------+"
     ]
    }
   ],
   "source": [
    "all_data.describe().show()"
   ]
  },
  {
   "cell_type": "code",
   "execution_count": 12,
   "id": "ff00def2-110b-4ea7-8040-5e1cd1b1e62c",
   "metadata": {
    "execution": {
     "iopub.execute_input": "2022-01-13T12:17:12.894576Z",
     "iopub.status.busy": "2022-01-13T12:17:12.894318Z",
     "iopub.status.idle": "2022-01-13T12:17:13.074999Z",
     "shell.execute_reply": "2022-01-13T12:17:13.074002Z",
     "shell.execute_reply.started": "2022-01-13T12:17:12.894548Z"
    }
   },
   "outputs": [
    {
     "data": {
      "application/vnd.jupyter.widget-view+json": {
       "model_id": "ac59a5efc6ef43479fd4acd195fab542",
       "version_major": 2,
       "version_minor": 0
      },
      "text/plain": [
       "VBox()"
      ]
     },
     "metadata": {},
     "output_type": "display_data"
    },
    {
     "data": {
      "application/vnd.jupyter.widget-view+json": {
       "model_id": "",
       "version_major": 2,
       "version_minor": 0
      },
      "text/plain": [
       "FloatProgress(value=0.0, bar_style='info', description='Progress:', layout=Layout(height='25px', width='50%'),…"
      ]
     },
     "metadata": {},
     "output_type": "display_data"
    }
   ],
   "source": [
    "#timestamp: All timestamps are returned as second Unix timestamps (the number of seconds elapsed since 1970-01-01 00:00:00.000 UTC). Timestamps in this dataset are multiple of 60, indicating minute-by-minute data.\n",
    "#Asset_ID: The asset ID corresponding to one of the crytocurrencies (e.g. Asset_ID = 1 for Bitcoin). The mapping from Asset_ID to crypto asset is contained in asset_details.csv.\n",
    "#Count: Total number of trades in the time interval (last minute).\n",
    "#Open: Opening price of the time interval (in USD).\n",
    "#High: Highest price reached during time interval (in USD).\n",
    "#Low: Lowest price reached during time interval (in USD).\n",
    "#Close: Closing price of the time interval (in USD).\n",
    "#Volume: Quantity of asset bought or sold, displayed in base currency USD.\n",
    "#VWAP: The average price of the asset over the time interval, weighted by volume. VWAP is an aggregated form of trade data.\n",
    "#Target: Residual log-returns for the asset over a 15 minute horizon."
   ]
  },
  {
   "cell_type": "code",
   "execution_count": 8,
   "id": "0d61e859-30cf-4be3-a065-97f40e8fd174",
   "metadata": {
    "execution": {
     "iopub.execute_input": "2022-01-17T05:00:25.296852Z",
     "iopub.status.busy": "2022-01-17T05:00:25.296575Z",
     "iopub.status.idle": "2022-01-17T05:00:25.599133Z",
     "shell.execute_reply": "2022-01-17T05:00:25.597625Z",
     "shell.execute_reply.started": "2022-01-17T05:00:25.296811Z"
    },
    "tags": []
   },
   "outputs": [
    {
     "data": {
      "application/vnd.jupyter.widget-view+json": {
       "model_id": "2d89b1c5f4954f629085dc318c559b8a",
       "version_major": 2,
       "version_minor": 0
      },
      "text/plain": [
       "VBox()"
      ]
     },
     "metadata": {},
     "output_type": "display_data"
    },
    {
     "data": {
      "application/vnd.jupyter.widget-view+json": {
       "model_id": "",
       "version_major": 2,
       "version_minor": 0
      },
      "text/plain": [
       "FloatProgress(value=0.0, bar_style='info', description='Progress:', layout=Layout(height='25px', width='50%'),…"
      ]
     },
     "metadata": {},
     "output_type": "display_data"
    },
    {
     "name": "stdout",
     "output_type": "stream",
     "text": [
      "root\n",
      " |-- timestamp: integer (nullable = true)\n",
      " |-- Asset_ID: integer (nullable = true)\n",
      " |-- Count: double (nullable = true)\n",
      " |-- Open: double (nullable = true)\n",
      " |-- High: double (nullable = true)\n",
      " |-- Low: double (nullable = true)\n",
      " |-- Close: double (nullable = true)\n",
      " |-- Volume: double (nullable = true)\n",
      " |-- VWAP: string (nullable = true)\n",
      " |-- Target: double (nullable = true)"
     ]
    }
   ],
   "source": [
    "all_data.printSchema()"
   ]
  },
  {
   "cell_type": "code",
   "execution_count": 9,
   "id": "a5fe938f-621b-42b2-bddd-e69063c9f08a",
   "metadata": {
    "execution": {
     "iopub.execute_input": "2022-01-17T05:00:30.234465Z",
     "iopub.status.busy": "2022-01-17T05:00:30.234220Z",
     "iopub.status.idle": "2022-01-17T05:00:35.932696Z",
     "shell.execute_reply": "2022-01-17T05:00:35.931983Z",
     "shell.execute_reply.started": "2022-01-17T05:00:30.234437Z"
    },
    "tags": []
   },
   "outputs": [
    {
     "data": {
      "application/vnd.jupyter.widget-view+json": {
       "model_id": "e2fb8a437db147eabe23a15cb45f97ac",
       "version_major": 2,
       "version_minor": 0
      },
      "text/plain": [
       "VBox()"
      ]
     },
     "metadata": {},
     "output_type": "display_data"
    },
    {
     "data": {
      "application/vnd.jupyter.widget-view+json": {
       "model_id": "",
       "version_major": 2,
       "version_minor": 0
      },
      "text/plain": [
       "FloatProgress(value=0.0, bar_style='info', description='Progress:', layout=Layout(height='25px', width='50%'),…"
      ]
     },
     "metadata": {},
     "output_type": "display_data"
    },
    {
     "name": "stdout",
     "output_type": "stream",
     "text": [
      "+--------+\n",
      "|count(1)|\n",
      "+--------+\n",
      "|24236806|\n",
      "+--------+"
     ]
    }
   ],
   "source": [
    "all_data.createOrReplaceTempView('kick')\n",
    "c = spark.sql(\"SELECT COUNT(*) FROM kick\")\n",
    "c.show()"
   ]
  },
  {
   "cell_type": "code",
   "execution_count": 27,
   "id": "989cd2fa-8bfd-400f-aeae-7545d66cc904",
   "metadata": {
    "execution": {
     "iopub.execute_input": "2022-01-13T13:04:46.622658Z",
     "iopub.status.busy": "2022-01-13T13:04:46.622143Z",
     "iopub.status.idle": "2022-01-13T13:04:46.784089Z",
     "shell.execute_reply": "2022-01-13T13:04:46.782474Z",
     "shell.execute_reply.started": "2022-01-13T13:04:46.622624Z"
    },
    "tags": []
   },
   "outputs": [
    {
     "data": {
      "application/vnd.jupyter.widget-view+json": {
       "model_id": "efa44f6f573b49ff9e5d80aa7a56d155",
       "version_major": 2,
       "version_minor": 0
      },
      "text/plain": [
       "VBox()"
      ]
     },
     "metadata": {},
     "output_type": "display_data"
    },
    {
     "data": {
      "application/vnd.jupyter.widget-view+json": {
       "model_id": "",
       "version_major": 2,
       "version_minor": 0
      },
      "text/plain": [
       "FloatProgress(value=0.0, bar_style='info', description='Progress:', layout=Layout(height='25px', width='50%'),…"
      ]
     },
     "metadata": {},
     "output_type": "display_data"
    },
    {
     "name": "stdout",
     "output_type": "stream",
     "text": [
      "root\n",
      " |-- timestamp: integer (nullable = true)\n",
      " |-- Asset_ID: integer (nullable = true)\n",
      " |-- Count: double (nullable = true)\n",
      " |-- Open: double (nullable = true)\n",
      " |-- High: double (nullable = true)\n",
      " |-- Low: double (nullable = true)\n",
      " |-- Close: double (nullable = true)\n",
      " |-- Volume: double (nullable = true)\n",
      " |-- VWAP: double (nullable = true)\n",
      " |-- Target: double (nullable = true)"
     ]
    }
   ],
   "source": [
    "df_new.printSchema()"
   ]
  },
  {
   "cell_type": "code",
   "execution_count": 10,
   "id": "d4ed2e6c-5036-46ff-b636-903e2c42f76d",
   "metadata": {
    "execution": {
     "iopub.execute_input": "2022-01-17T05:00:39.813010Z",
     "iopub.status.busy": "2022-01-17T05:00:39.812759Z",
     "iopub.status.idle": "2022-01-17T05:00:39.972974Z",
     "shell.execute_reply": "2022-01-17T05:00:39.972264Z",
     "shell.execute_reply.started": "2022-01-17T05:00:39.812984Z"
    },
    "tags": []
   },
   "outputs": [
    {
     "data": {
      "application/vnd.jupyter.widget-view+json": {
       "model_id": "079ec7cff9af484e8b60654e0c76c0fc",
       "version_major": 2,
       "version_minor": 0
      },
      "text/plain": [
       "VBox()"
      ]
     },
     "metadata": {},
     "output_type": "display_data"
    },
    {
     "data": {
      "application/vnd.jupyter.widget-view+json": {
       "model_id": "",
       "version_major": 2,
       "version_minor": 0
      },
      "text/plain": [
       "FloatProgress(value=0.0, bar_style='info', description='Progress:', layout=Layout(height='25px', width='50%'),…"
      ]
     },
     "metadata": {},
     "output_type": "display_data"
    }
   ],
   "source": [
    "from pyspark.sql.types import DoubleType\n",
    "df_new = all_data.withColumn(\"VWAP\", all_data[\"VWAP\"].cast(DoubleType()))"
   ]
  },
  {
   "cell_type": "code",
   "execution_count": 11,
   "id": "ffb51732-df93-42e7-a1e6-421dc69cd88b",
   "metadata": {
    "execution": {
     "iopub.execute_input": "2022-01-17T05:00:43.836791Z",
     "iopub.status.busy": "2022-01-17T05:00:43.836529Z",
     "iopub.status.idle": "2022-01-17T05:00:44.248144Z",
     "shell.execute_reply": "2022-01-17T05:00:44.247067Z",
     "shell.execute_reply.started": "2022-01-17T05:00:43.836762Z"
    },
    "tags": []
   },
   "outputs": [
    {
     "data": {
      "application/vnd.jupyter.widget-view+json": {
       "model_id": "26e1f07fdac545adaf4b7760ffb353b3",
       "version_major": 2,
       "version_minor": 0
      },
      "text/plain": [
       "VBox()"
      ]
     },
     "metadata": {},
     "output_type": "display_data"
    },
    {
     "data": {
      "application/vnd.jupyter.widget-view+json": {
       "model_id": "",
       "version_major": 2,
       "version_minor": 0
      },
      "text/plain": [
       "FloatProgress(value=0.0, bar_style='info', description='Progress:', layout=Layout(height='25px', width='50%'),…"
      ]
     },
     "metadata": {},
     "output_type": "display_data"
    }
   ],
   "source": [
    "df_newer = df_new.na.drop(how='any')\n",
    "from pyspark.ml.feature import VectorAssembler\n",
    "assembler = VectorAssembler(inputCols=['Asset_ID', 'Count', 'Open', 'High', 'Low', 'Close', 'Volume', 'VWAP'], outputCol='features')\n",
    "output = assembler.transform(df_newer)\n",
    "final_data = output.select('features','Target')"
   ]
  },
  {
   "cell_type": "code",
   "execution_count": 12,
   "id": "1f1c49c1-89b2-492a-874d-dfeb9819afd9",
   "metadata": {
    "execution": {
     "iopub.execute_input": "2022-01-17T05:00:45.806833Z",
     "iopub.status.busy": "2022-01-17T05:00:45.806538Z",
     "iopub.status.idle": "2022-01-17T05:00:53.444843Z",
     "shell.execute_reply": "2022-01-17T05:00:53.443531Z",
     "shell.execute_reply.started": "2022-01-17T05:00:45.806803Z"
    },
    "tags": []
   },
   "outputs": [
    {
     "data": {
      "application/vnd.jupyter.widget-view+json": {
       "model_id": "7a6d29dcfff3496aaf98b485fdc3d1cc",
       "version_major": 2,
       "version_minor": 0
      },
      "text/plain": [
       "VBox()"
      ]
     },
     "metadata": {},
     "output_type": "display_data"
    },
    {
     "data": {
      "application/vnd.jupyter.widget-view+json": {
       "model_id": "",
       "version_major": 2,
       "version_minor": 0
      },
      "text/plain": [
       "FloatProgress(value=0.0, bar_style='info', description='Progress:', layout=Layout(height='25px', width='50%'),…"
      ]
     },
     "metadata": {},
     "output_type": "display_data"
    },
    {
     "name": "stdout",
     "output_type": "stream",
     "text": [
      "+--------+\n",
      "|count(1)|\n",
      "+--------+\n",
      "|23486459|\n",
      "+--------+"
     ]
    }
   ],
   "source": [
    "df_newer.createOrReplaceTempView('kick2')\n",
    "d = spark.sql(\"SELECT COUNT(*) FROM kick2\")\n",
    "d.show()"
   ]
  },
  {
   "cell_type": "code",
   "execution_count": 13,
   "id": "40a9f8e7-19f3-4950-a467-51b027de8c44",
   "metadata": {
    "execution": {
     "iopub.execute_input": "2022-01-17T05:01:14.474227Z",
     "iopub.status.busy": "2022-01-17T05:01:14.473849Z",
     "iopub.status.idle": "2022-01-17T05:08:30.353065Z",
     "shell.execute_reply": "2022-01-17T05:08:30.352161Z",
     "shell.execute_reply.started": "2022-01-17T05:01:14.474195Z"
    },
    "tags": []
   },
   "outputs": [
    {
     "data": {
      "application/vnd.jupyter.widget-view+json": {
       "model_id": "5acb7f7093aa424da3b0f1782502e68e",
       "version_major": 2,
       "version_minor": 0
      },
      "text/plain": [
       "VBox()"
      ]
     },
     "metadata": {},
     "output_type": "display_data"
    },
    {
     "data": {
      "application/vnd.jupyter.widget-view+json": {
       "model_id": "",
       "version_major": 2,
       "version_minor": 0
      },
      "text/plain": [
       "FloatProgress(value=0.0, bar_style='info', description='Progress:', layout=Layout(height='25px', width='50%'),…"
      ]
     },
     "metadata": {},
     "output_type": "display_data"
    }
   ],
   "source": [
    "from pyspark.ml.regression import RandomForestRegressor, GBTRegressor\n",
    "train, test = final_data.randomSplit([0.7, 0.3])\n",
    "rfc = RandomForestRegressor(numTrees=1000, labelCol='Target')\n",
    "gbt = GBTRegressor(labelCol='Target', maxMemoryInMB=512, maxIter=100, seed=2)\n",
    "#rfc_fit = rfc.fit(train)\n",
    "#rfc_preds = rfc_fit.transform(test)\n",
    "gbt_fit = gbt.fit(train)\n",
    "gbt_preds = gbt_fit.transform(test)"
   ]
  },
  {
   "cell_type": "code",
   "execution_count": null,
   "id": "5fbe2b24-4ebd-4f11-bddc-74333cd9fd1d",
   "metadata": {},
   "outputs": [],
   "source": []
  },
  {
   "cell_type": "code",
   "execution_count": 14,
   "id": "592a6067-3e27-425b-80cf-8dde7f0ac686",
   "metadata": {
    "execution": {
     "iopub.execute_input": "2022-01-17T05:11:02.369157Z",
     "iopub.status.busy": "2022-01-17T05:11:02.368611Z",
     "iopub.status.idle": "2022-01-17T05:11:20.383263Z",
     "shell.execute_reply": "2022-01-17T05:11:18.265395Z",
     "shell.execute_reply.started": "2022-01-17T05:11:02.369115Z"
    },
    "tags": []
   },
   "outputs": [
    {
     "data": {
      "application/vnd.jupyter.widget-view+json": {
       "model_id": "51ee74d730ee4bbfafe1dd730d15c2db",
       "version_major": 2,
       "version_minor": 0
      },
      "text/plain": [
       "VBox()"
      ]
     },
     "metadata": {},
     "output_type": "display_data"
    },
    {
     "data": {
      "application/vnd.jupyter.widget-view+json": {
       "model_id": "",
       "version_major": 2,
       "version_minor": 0
      },
      "text/plain": [
       "FloatProgress(value=0.0, bar_style='info', description='Progress:', layout=Layout(height='25px', width='50%'),…"
      ]
     },
     "metadata": {},
     "output_type": "display_data"
    },
    {
     "name": "stdout",
     "output_type": "stream",
     "text": [
      "0.005650909948968013"
     ]
    }
   ],
   "source": [
    "from pyspark.ml.evaluation import RegressionEvaluator\n",
    "my_eval2 = RegressionEvaluator(labelCol='Target')\n",
    "my_eval2.evaluate(gbt_preds)"
   ]
  },
  {
   "cell_type": "code",
   "execution_count": 15,
   "id": "3ac1c4c4-c3d8-4bf1-af3e-55c75bbc809f",
   "metadata": {
    "execution": {
     "iopub.execute_input": "2022-01-17T05:11:20.384970Z",
     "iopub.status.busy": "2022-01-17T05:11:20.384667Z",
     "iopub.status.idle": "2022-01-17T05:11:21.158041Z",
     "shell.execute_reply": "2022-01-17T05:11:21.157270Z",
     "shell.execute_reply.started": "2022-01-17T05:11:20.384917Z"
    },
    "tags": []
   },
   "outputs": [
    {
     "data": {
      "application/vnd.jupyter.widget-view+json": {
       "model_id": "1ee8edf0f5374d73a60aca21db584a31",
       "version_major": 2,
       "version_minor": 0
      },
      "text/plain": [
       "VBox()"
      ]
     },
     "metadata": {},
     "output_type": "display_data"
    },
    {
     "data": {
      "application/vnd.jupyter.widget-view+json": {
       "model_id": "",
       "version_major": 2,
       "version_minor": 0
      },
      "text/plain": [
       "FloatProgress(value=0.0, bar_style='info', description='Progress:', layout=Layout(height='25px', width='50%'),…"
      ]
     },
     "metadata": {},
     "output_type": "display_data"
    }
   ],
   "source": [
    "#gbt_preds.show()"
   ]
  },
  {
   "cell_type": "code",
   "execution_count": 16,
   "id": "63a6ed04-4e11-492e-a138-9a2328155107",
   "metadata": {
    "execution": {
     "iopub.execute_input": "2022-01-17T05:14:53.868478Z",
     "iopub.status.busy": "2022-01-17T05:14:53.868224Z",
     "iopub.status.idle": "2022-01-17T05:14:54.074153Z",
     "shell.execute_reply": "2022-01-17T05:14:54.073421Z",
     "shell.execute_reply.started": "2022-01-17T05:14:53.868449Z"
    },
    "tags": []
   },
   "outputs": [
    {
     "data": {
      "application/vnd.jupyter.widget-view+json": {
       "model_id": "65471c484c204fd2bf6017d6149b36ca",
       "version_major": 2,
       "version_minor": 0
      },
      "text/plain": [
       "VBox()"
      ]
     },
     "metadata": {},
     "output_type": "display_data"
    },
    {
     "data": {
      "application/vnd.jupyter.widget-view+json": {
       "model_id": "",
       "version_major": 2,
       "version_minor": 0
      },
      "text/plain": [
       "FloatProgress(value=0.0, bar_style='info', description='Progress:', layout=Layout(height='25px', width='50%'),…"
      ]
     },
     "metadata": {},
     "output_type": "display_data"
    }
   ],
   "source": [
    "from pyspark.ml.feature import Normalizer\n",
    "\n",
    "normalizer = Normalizer(inputCol=\"features\", outputCol=\"features_norm\", p=1.0)\n",
    "l1NormData = normalizer.transform(final_data)"
   ]
  },
  {
   "cell_type": "code",
   "execution_count": 17,
   "id": "d573a36e-9b04-4343-b00f-0a19cff2341b",
   "metadata": {
    "execution": {
     "iopub.execute_input": "2022-01-17T05:15:02.033486Z",
     "iopub.status.busy": "2022-01-17T05:15:02.033226Z",
     "iopub.status.idle": "2022-01-17T05:48:28.174928Z",
     "shell.execute_reply": "2022-01-17T05:48:28.174085Z",
     "shell.execute_reply.started": "2022-01-17T05:15:02.033456Z"
    },
    "tags": []
   },
   "outputs": [
    {
     "data": {
      "application/vnd.jupyter.widget-view+json": {
       "model_id": "be1075cc07754206813b416a09d422aa",
       "version_major": 2,
       "version_minor": 0
      },
      "text/plain": [
       "VBox()"
      ]
     },
     "metadata": {},
     "output_type": "display_data"
    },
    {
     "data": {
      "application/vnd.jupyter.widget-view+json": {
       "model_id": "",
       "version_major": 2,
       "version_minor": 0
      },
      "text/plain": [
       "FloatProgress(value=0.0, bar_style='info', description='Progress:', layout=Layout(height='25px', width='50%'),…"
      ]
     },
     "metadata": {},
     "output_type": "display_data"
    }
   ],
   "source": [
    "from pyspark.ml.regression import RandomForestRegressor, GBTRegressor\n",
    "normaltrain, normaltest = l1NormData.randomSplit([0.7, 0.3])\n",
    "normalrfc = RandomForestRegressor(numTrees=1000, labelCol='Target', maxMemoryInMB=512)\n",
    "#gbt = GBTRegressor(labelCol='Target', maxMemoryInMB=512, maxIter=100, seed=2)\n",
    "normalrfc_fit = normalrfc.fit(normaltrain)\n",
    "normalrfc_preds = normalrfc_fit.transform(normaltest)\n",
    "#gbt_fit = gbt.fit(train)\n",
    "#gbt_preds = gbt_fit.transform(test)"
   ]
  },
  {
   "cell_type": "code",
   "execution_count": null,
   "id": "28bb190b-7ff2-4eb6-a613-1f3cc65caf29",
   "metadata": {},
   "outputs": [],
   "source": []
  }
 ],
 "metadata": {
  "kernelspec": {
   "display_name": "PySpark",
   "language": "",
   "name": "pysparkkernel"
  },
  "language_info": {
   "codemirror_mode": {
    "name": "python",
    "version": 2
   },
   "mimetype": "text/x-python",
   "name": "pyspark",
   "pygments_lexer": "python2"
  }
 },
 "nbformat": 4,
 "nbformat_minor": 5
}
